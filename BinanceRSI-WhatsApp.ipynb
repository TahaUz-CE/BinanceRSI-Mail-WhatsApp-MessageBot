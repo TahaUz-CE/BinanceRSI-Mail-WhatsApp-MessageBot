{
 "cells": [
  {
   "cell_type": "code",
   "execution_count": 1,
   "id": "50bf5297-a068-4e39-b670-eb941a5f0a39",
   "metadata": {},
   "outputs": [],
   "source": [
    "from binance.client import Client\n",
    "import numpy as np\n",
    "import pandas as pd\n",
    "import smtplib\n",
    "import time\n",
    "import smtplib\n",
    "from email.mime.multipart import MIMEMultipart\n",
    "from email.mime.text import MIMEText\n",
    "import sys\n",
    "import datetime"
   ]
  },
  {
   "cell_type": "code",
   "execution_count": 2,
   "id": "3d753ab8-71d5-468f-9bd5-dccbfb083a53",
   "metadata": {},
   "outputs": [],
   "source": [
    "# !pip install pywhatkit\n",
    "import pyautogui\n",
    "import pywhatkit"
   ]
  },
  {
   "cell_type": "code",
   "execution_count": 3,
   "id": "5d9000d2-95e5-454a-892a-4532fd4c03d3",
   "metadata": {},
   "outputs": [],
   "source": [
    "API_KEY = 'API_KEY'\n",
    "API_SECRET = 'API_SECRET'"
   ]
  },
  {
   "cell_type": "code",
   "execution_count": 4,
   "id": "51facc76-b425-418f-b005-bd7a99396215",
   "metadata": {},
   "outputs": [],
   "source": [
    "client = Client(API_KEY, API_SECRET)"
   ]
  },
  {
   "cell_type": "code",
   "execution_count": 5,
   "id": "0846cf68-9408-47e5-b51d-ea2e296393c1",
   "metadata": {},
   "outputs": [],
   "source": [
    "SYMBOLS = ('MATICBUSD', 'AVAXBUSD', 'ENJBUSD', 'TLMBUSD', 'ONTBUSD', 'BNBBUSD', 'LINKBUSD','CHZBUSD'\n",
    "           ,'BTTBUSD','NEOBUSD','ALICEBUSD','SOLBUSD','ETHBUSD','UNIBUSD','BTCBUSD')"
   ]
  },
  {
   "cell_type": "code",
   "execution_count": 6,
   "id": "c21f6609-7902-45e8-a2dd-e7d88d45d503",
   "metadata": {},
   "outputs": [],
   "source": [
    "def historical_to_histdf(historical):\n",
    "    hist_df = pd.DataFrame(historical)\n",
    "    hist_df.columns = ['Open Time', 'Open', 'High', 'Low', 'Close', 'Volume', 'Close Time', 'Quote Asset Volume', \n",
    "    'Number of Trades', 'TB Base Volume', 'TB Quote Volume', 'Ignore']\n",
    "    hist_df['Open Time'] = pd.to_datetime(hist_df['Open Time']/1000, unit='s')\n",
    "    hist_df['Close Time'] = pd.to_datetime(hist_df['Close Time']/1000, unit='s')\n",
    "    numeric_columns = ['Open', 'High', 'Low', 'Close', 'Volume', 'Quote Asset Volume', 'TB Base Volume', 'TB Quote Volume']\n",
    "    hist_df[numeric_columns] = hist_df[numeric_columns].apply(pd.to_numeric, axis=1)\n",
    "    return hist_df"
   ]
  },
  {
   "cell_type": "code",
   "execution_count": 7,
   "id": "72c9d455-4d40-4df4-92f3-c49b15f26ce2",
   "metadata": {},
   "outputs": [],
   "source": [
    "def rsi_cal(hist_df):\n",
    "    delta = hist_df['Close'].diff()\n",
    "    up = delta.clip(lower=0)\n",
    "    down = -1*delta.clip(upper=0)\n",
    "\n",
    "    ema_up = up.ewm(com=13, adjust=False).mean()\n",
    "    ema_down = down.ewm(com=13, adjust=False).mean()\n",
    "\n",
    "    rs = ema_up/ema_down\n",
    "    hist_df['RSI'] = 100 - (100/(1 + rs))\n",
    "    return hist_df"
   ]
  },
  {
   "cell_type": "code",
   "execution_count": 9,
   "id": "e13e24c4-f0a8-4cb1-846e-90ebf185edb1",
   "metadata": {},
   "outputs": [],
   "source": [
    "def send_whatsup_mes(rsi_regular_historical,SYMBOL):\n",
    "    yazi = \"Guncel \"+SYMBOL+\" RSI verisidir.\"+np.array_str(rsi_regular_historical['RSI'].tail(1).values)\n",
    "    #pyautogui.typewrite(yazi)\n",
    "    #pyautogui.press(\"enter\")\n",
    "    pywhatkit.sendwhatmsg_instantly(phone_no=\"+00000000000\",message=yazi,wait_time=2)\n",
    "    time.sleep(3)\n",
    "    pyautogui.click(936,989)\n",
    "    time.sleep(2)\n",
    "    pyautogui.press(\"enter\")\n",
    "    time.sleep(2)\n",
    "    pyautogui.hotkey('ctrl','w')\n",
    "    pyautogui.press(\"enter\")"
   ]
  },
  {
   "cell_type": "code",
   "execution_count": null,
   "id": "5fe7a070-7c28-4c4a-9238-d2e4a9500581",
   "metadata": {},
   "outputs": [],
   "source": [
    "while True:\n",
    "    for SYMBOL in SYMBOLS:        \n",
    "        historical = client.get_historical_klines(SYMBOL,Client.KLINE_INTERVAL_15MINUTE,start_str='4 September 2021')\n",
    "        regular_historical = historical_to_histdf(historical)\n",
    "        rsi_regular_historical = rsi_cal(regular_historical)\n",
    "        send_whatsup_mes(rsi_regular_historical,SYMBOL)\n",
    "    time.sleep(60 * 2)"
   ]
  }
 ],
 "metadata": {
  "kernelspec": {
   "display_name": "Python 3",
   "language": "python",
   "name": "python3"
  },
  "language_info": {
   "codemirror_mode": {
    "name": "ipython",
    "version": 3
   },
   "file_extension": ".py",
   "mimetype": "text/x-python",
   "name": "python",
   "nbconvert_exporter": "python",
   "pygments_lexer": "ipython3",
   "version": "3.9.5"
  }
 },
 "nbformat": 4,
 "nbformat_minor": 5
}
